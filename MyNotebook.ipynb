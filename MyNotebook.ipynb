{
  "cells": [
    {
      "cell_type": "markdown",
      "metadata": {
        "id": "view-in-github",
        "colab_type": "text"
      },
      "source": [
        "<a href=\"https://colab.research.google.com/github/gurleen1507/Assignments_Gurleen_1042/blob/main/MyNotebook.ipynb\" target=\"_parent\"><img src=\"https://colab.research.google.com/assets/colab-badge.svg\" alt=\"Open In Colab\"/></a>"
      ]
    },
    {
      "cell_type": "markdown",
      "source": [
        "Q11. Write a Python program to swap two variables using a temporary variable and\n",
        "without using a temporary variable."
      ],
      "metadata": {
        "id": "5htm0ezBu7A9"
      }
    },
    {
      "cell_type": "code",
      "source": [
        "# Swapping using a temporary variable\n",
        "print(\"Using a Temporary Variable\")\n",
        "a = 10\n",
        "b = 20\n",
        "print(f\"Before swapping: a = {a}, b = {b}\")\n",
        "temp = a\n",
        "a = b\n",
        "b = temp\n",
        "print(f\"After swapping:  a = {a}, b = {b}\")\n",
        "\n",
        "# Swapping without using a temporary variable\n",
        "print(\"\\nWithout Using a Temporary Variable\")\n",
        "p = 100\n",
        "q = 200\n",
        "print(f\"Before swapping: p = {p}, q = {q}\")\n",
        "p, q = q, p\n",
        "print(f\"After swapping: p = {p}, q = {q}\")\n"
      ],
      "metadata": {
        "colab": {
          "base_uri": "https://localhost:8080/"
        },
        "id": "UYIYJ-P-s-tG",
        "outputId": "7e2feb82-92d2-433c-ec5e-ddfb7263457c"
      },
      "execution_count": null,
      "outputs": [
        {
          "output_type": "stream",
          "name": "stdout",
          "text": [
            "Using a Temporary Variable\n",
            "Before swapping: a = 10, b = 20\n",
            "After swapping:  a = 20, b = 10\n",
            "\n",
            "Without Using a Temporary Variable\n",
            "Before swapping: p = 100, q = 200\n",
            "After swapping: p = 200, q = 100\n"
          ]
        }
      ]
    },
    {
      "cell_type": "markdown",
      "source": [
        "Q12. Write a Python Program (WAPP) to make a square of number 6 by using number pattern 6 x 6"
      ],
      "metadata": {
        "id": "-CQEb0r3vKdZ"
      }
    },
    {
      "cell_type": "code",
      "source": [
        "n = 6\n",
        "for i in range(n):\n",
        "    for j in range(n):\n",
        "        print(6, end=\" \")\n",
        "    print()\n"
      ],
      "metadata": {
        "id": "c9L1NHrWvjj9",
        "outputId": "92971b64-219d-473f-cea8-9cd26f73a9f8",
        "colab": {
          "base_uri": "https://localhost:8080/"
        }
      },
      "execution_count": null,
      "outputs": [
        {
          "output_type": "stream",
          "name": "stdout",
          "text": [
            "6 6 6 6 6 6 \n",
            "6 6 6 6 6 6 \n",
            "6 6 6 6 6 6 \n",
            "6 6 6 6 6 6 \n",
            "6 6 6 6 6 6 \n",
            "6 6 6 6 6 6 \n"
          ]
        }
      ]
    },
    {
      "cell_type": "markdown",
      "source": [
        "Q13. (a)Write a program to calculate the factorial of a number using a loop."
      ],
      "metadata": {
        "id": "nXnYkzOOvpBr"
      }
    },
    {
      "cell_type": "code",
      "source": [
        "num = int(input(\"Enter a number: \"))\n",
        "factorial = 1\n",
        "for i in range(1, num + 1):\n",
        "        factorial *= i\n",
        "print(f\"The factorial of {num} is {factorial}\")\n"
      ],
      "metadata": {
        "id": "F7qGlC5KvyEO",
        "outputId": "a94f5c01-79ec-4789-b12b-130eeb9b7388",
        "colab": {
          "base_uri": "https://localhost:8080/"
        }
      },
      "execution_count": null,
      "outputs": [
        {
          "output_type": "stream",
          "name": "stdout",
          "text": [
            "Enter a number: 4\n",
            "The factorial of 4 is 24\n"
          ]
        }
      ]
    },
    {
      "cell_type": "markdown",
      "source": [
        "Q13.(b) Write a Python program to simulate a simple password system:\n",
        "* User has 3 attempts to enter the correct password “admin123”.\n",
        "* If correct, print “Access Granted”.\n",
        "* If incorrect after 3 attempts, print “Access Denied\""
      ],
      "metadata": {
        "id": "H5Ez_-J8wPPJ"
      }
    },
    {
      "cell_type": "code",
      "source": [
        "correct_password = \"admin123\"\n",
        "attempts = 3\n",
        "for i in range(attempts):\n",
        "    password = input(\"Enter password: \")\n",
        "\n",
        "    if password == correct_password:\n",
        "        print(\"Access Granted\")\n",
        "        break\n",
        "    else:\n",
        "        print(f\"Incorrect password! Attempts left: {attempts - (i+1)}\")\n",
        "\n",
        "else:\n",
        "    print(\"Access Denied\")\n"
      ],
      "metadata": {
        "id": "Su_r7UT1ws1e",
        "outputId": "347b51e3-1bfe-4be3-c310-e9d4262ad8fe",
        "colab": {
          "base_uri": "https://localhost:8080/"
        }
      },
      "execution_count": null,
      "outputs": [
        {
          "output_type": "stream",
          "name": "stdout",
          "text": [
            "Enter password: jahsbhja\n",
            "Incorrect password! Attempts left: 2\n",
            "Enter password: guygsaxy\n",
            "Incorrect password! Attempts left: 1\n",
            "Enter password: bxhb\n",
            "Incorrect password! Attempts left: 0\n",
            "Access Denied\n"
          ]
        }
      ]
    }
  ],
  "metadata": {
    "colab": {
      "provenance": [],
      "include_colab_link": true
    },
    "kernelspec": {
      "display_name": "Python 3",
      "name": "python3"
    }
  },
  "nbformat": 4,
  "nbformat_minor": 0
}